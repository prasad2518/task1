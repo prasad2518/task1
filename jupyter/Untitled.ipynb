{
 "cells": [
  {
   "cell_type": "code",
   "execution_count": 2,
   "id": "40e36bea-cb2b-4654-aac0-ad3b5297918c",
   "metadata": {},
   "outputs": [
    {
     "ename": "ModuleNotFoundError",
     "evalue": "No module named 'numpy'",
     "output_type": "error",
     "traceback": [
      "\u001b[1;31m---------------------------------------------------------------------------\u001b[0m",
      "\u001b[1;31mModuleNotFoundError\u001b[0m                       Traceback (most recent call last)",
      "Cell \u001b[1;32mIn[2], line 1\u001b[0m\n\u001b[1;32m----> 1\u001b[0m \u001b[38;5;28;01mimport\u001b[39;00m \u001b[38;5;21;01mnumpy\u001b[39;00m \u001b[38;5;28;01mas\u001b[39;00m \u001b[38;5;21;01mnp\u001b[39;00m\n\u001b[0;32m      2\u001b[0m \u001b[38;5;28;01mimport\u001b[39;00m \u001b[38;5;21;01mmatplotlib\u001b[39;00m\u001b[38;5;21;01m.\u001b[39;00m\u001b[38;5;21;01mpyplot\u001b[39;00m \u001b[38;5;28;01mas\u001b[39;00m \u001b[38;5;21;01mplt\u001b[39;00m\n\u001b[0;32m      4\u001b[0m \u001b[38;5;28;01mdef\u001b[39;00m \u001b[38;5;21msum_\u001b[39m(x):\n",
      "\u001b[1;31mModuleNotFoundError\u001b[0m: No module named 'numpy'"
     ]
    }
   ],
   "source": [
    "import numpy as np\n",
    "import matplotlib.pyplot as plt\n",
    "\n",
    "def sum_(x):\n",
    "    s=0\n",
    "    for i in x:\n",
    "        s+=i\n",
    "    return s\n",
    "def length(x):\n",
    "    n=0\n",
    "    for i in x:\n",
    "        n+=1\n",
    "    return n\n",
    "def mean_(x):\n",
    "    return (sum_(x)/length(x))\n",
    "\n",
    "#reading inputs\n",
    "a=[float(x) for x in input(\"Enter x values : \").split(\" \")]\n",
    "b=[float(x) for x in input(\"Enter y values : \").split(\" \")]\n",
    "x=np.array(a)\n",
    "y=np.array(b)\n",
    "\n",
    "n=length(x)\n",
    "sx=sum_(x)\n",
    "sy=sum_(y)\n",
    "sxy=sum_(x*y)\n",
    "sx2=sum_(x*x)\n",
    "\n",
    "a=((sy*sx2)-(sx*sxy))/((n*sx2)-(sx*sx))\n",
    "b=(sy-(n*a))/sx\n",
    "a=round(a,4)\n",
    "b=round(b,4)\n",
    "\n",
    "print(\"Slope is : \",b)\n",
    "print(\"Intercept is : \",a)\n",
    "\n",
    "#Best Fit Equation is:\n",
    "print(\"Best Fit Equation is:\")\n",
    "print(\"y={}+{}*x\".format(a,b))\n",
    "\n",
    "#calculating y_hat\n",
    "y_cap=b*x+a\n",
    "print(y_cap)\n",
    "\n",
    "#plots\n",
    "plt.plot(x,y,'ro-')\n",
    "plt.plot(x,y_cap,'bo-')\n",
    "plt.show()\n",
    "\n",
    "#sse\n",
    "sse=sum((y-y_cap)**2)\n",
    "print(\"sse is : \",sse)\n",
    "\n",
    "#sst\n",
    "sst=sum((y-mean_(y))**2)\n",
    "print(\"sst is : \",sst)\n",
    "\n",
    "#ssr\n",
    "ssr=sst-sse\n",
    "print(\"ssr is : \",ssr)\n",
    "\n",
    "#calculating r2\n",
    "r2=ssr/sst\n",
    "print(\"r^2 is : \",r2)\n",
    "\n",
    "#goodness of fit\n",
    "if(r2>0.90):\n",
    "  print(\"Good Fit\")\n",
    "else:\n",
    "  print(\"Not Good Fit\")\n"
   ]
  },
  {
   "cell_type": "code",
   "execution_count": null,
   "id": "47721754-d570-4307-97a9-295184c543bb",
   "metadata": {},
   "outputs": [],
   "source": []
  }
 ],
 "metadata": {
  "kernelspec": {
   "display_name": "Python 3 (ipykernel)",
   "language": "python",
   "name": "python3"
  },
  "language_info": {
   "codemirror_mode": {
    "name": "ipython",
    "version": 3
   },
   "file_extension": ".py",
   "mimetype": "text/x-python",
   "name": "python",
   "nbconvert_exporter": "python",
   "pygments_lexer": "ipython3",
   "version": "3.12.3"
  }
 },
 "nbformat": 4,
 "nbformat_minor": 5
}
