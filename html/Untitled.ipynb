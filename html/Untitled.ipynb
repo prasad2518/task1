{
 "cells": [
  {
   "cell_type": "code",
   "execution_count": null,
   "id": "3867d438-97e3-4c07-a6cb-5a61c0be1727",
   "metadata": {},
   "outputs": [],
   "source": []
  }
 ],
 "metadata": {
  "kernelspec": {
   "display_name": "",
   "name": ""
  },
  "language_info": {
   "name": ""
  }
 },
 "nbformat": 4,
 "nbformat_minor": 5
}
